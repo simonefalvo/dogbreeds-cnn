{
  "nbformat": 4,
  "nbformat_minor": 0,
  "metadata": {
    "colab": {
      "name": "dogbreeds-cnn.ipynb",
      "provenance": [],
      "collapsed_sections": [],
      "authorship_tag": "ABX9TyOkrTzhwsFp1mb4zpBJc7a9"
    },
    "kernelspec": {
      "name": "python3",
      "display_name": "Python 3"
    },
    "accelerator": "GPU"
  },
  "cells": [
    {
      "cell_type": "code",
      "metadata": {
        "id": "vFzfkcBDsQa0",
        "colab_type": "code",
        "outputId": "9db06cf8-f596-4bcd-d79b-ae2b339ce2af",
        "colab": {
          "base_uri": "https://localhost:8080/",
          "height": 391
        }
      },
      "source": [
        "import tensorflow as tf\n",
        "\n",
        "import numpy as np # linear algebra\n",
        "import pandas as pd # data processing, CSV file I/O (e.g. pd.read_csv)\n",
        "\n",
        "import pathlib\n",
        "\n",
        "\n",
        "print(\"Num GPUs Available: \", \n",
        "      len(tf.config.experimental.list_physical_devices('GPU')))\n",
        "print(\"Tensorflow version: \", tf.__version__) \n",
        "\n",
        "\n",
        "LABELS_URL = \"https://drive.google.com/u/0/uc?id=1BuAlu6-6QhTVK6NJ4p8Yvpgyv4HKYA9h&export=download\"\n",
        "labels_file = tf.keras.utils.get_file(\"labels.csv\", LABELS_URL)\n",
        "#labels_file = \"/kaggle/input/aw18-19/train_labels.csv\"\n",
        "#labels_file = \"dogs/train_labels.csv\"\n",
        "\n",
        "df = pd.read_csv(labels_file)\n",
        "print(df.dtypes)\n",
        "print(df.head())\n",
        "\n",
        "class_names = np.unique(df.breed)\n",
        "num_class = len(class_names)\n",
        "print(\"Number of classes: \", num_class)\n",
        "print(\"Classes:\")\n",
        "print(class_names)\n",
        "\n",
        "#data_dir = tf.keras.utils.get_file(origin='https://drive.google.com/uc?id=1159F3zzEJS2X1u9d0UL3QuUQiz5TLwc9&export=download',\n",
        "#                                         fname='dog_breeds', extract=True)\n",
        "data_dir = tf.keras.utils.get_file(origin='https://drive.google.com/uc?export=download&confirm=wciD&id=1159F3zzEJS2X1u9d0UL3QuUQiz5TLwc9',\n",
        "                                         fname='dog_breeds', extract=True)\n",
        "data_dir = pathlib.Path(data_dir)\n",
        "\n",
        "image_count = len(list(data_dir.glob('train/*/*.jpg')))\n",
        "image_count"
      ],
      "execution_count": 0,
      "outputs": [
        {
          "output_type": "stream",
          "text": [
            "Num GPUs Available:  1\n",
            "Tensorflow version:  1.15.0\n",
            "id       object\n",
            "breed    object\n",
            "dtype: object\n",
            "                                 id               breed\n",
            "0  a32893132f6fbb3635df77c157c7d8e0  scottish_deerhound\n",
            "1  3b3ae8c92f704bf449ea4bc61866461b  scottish_deerhound\n",
            "2  c9bbc4ce586c0d73e14bee1b1e674ba9  scottish_deerhound\n",
            "3  f194e48d99e5e0f279eb8cd5e6872e36  scottish_deerhound\n",
            "4  03dc61595ad9dbf49e3998cf586ca8cb  scottish_deerhound\n",
            "Number of classes:  35\n",
            "Classes:\n",
            "['afghan_hound' 'airedale' 'australian_terrier' 'basenji' 'beagle'\n",
            " 'bernese_mountain_dog' 'blenheim_spaniel' 'border_terrier' 'cairn' 'chow'\n",
            " 'entlebucher' 'great_pyrenees' 'ibizan_hound' 'irish_wolfhound'\n",
            " 'italian_greyhound' 'japanese_spaniel' 'lakeland_terrier' 'leonberg'\n",
            " 'lhasa' 'maltese_dog' 'miniature_pinscher' 'newfoundland'\n",
            " 'norwegian_elkhound' 'papillon' 'pembroke' 'pomeranian' 'pug' 'saluki'\n",
            " 'samoyed' 'scottish_deerhound' 'shih-tzu' 'siberian_husky'\n",
            " 'silky_terrier' 'tibetan_terrier' 'whippet']\n"
          ],
          "name": "stdout"
        },
        {
          "output_type": "execute_result",
          "data": {
            "text/plain": [
              "0"
            ]
          },
          "metadata": {
            "tags": []
          },
          "execution_count": 5
        }
      ]
    }
  ]
}